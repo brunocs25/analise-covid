{
 "cells": [
  {
   "cell_type": "markdown",
   "id": "e524d255",
   "metadata": {},
   "source": [
    "# Projeto Final"
   ]
  },
  {
   "cell_type": "markdown",
   "id": "5b639bc2",
   "metadata": {},
   "source": [
    "### Importanto a biblioteca requests"
   ]
  },
  {
   "cell_type": "code",
   "execution_count": 1,
   "id": "c4d951a9",
   "metadata": {},
   "outputs": [],
   "source": [
    "import requests as r \n",
    "import pandas as pd"
   ]
  },
  {
   "cell_type": "code",
   "execution_count": 2,
   "id": "a58f8c1d",
   "metadata": {},
   "outputs": [],
   "source": [
    "url = 'https://api.covid19api.com/dayone/country/brazil' #salvando em uma variável o endereço da api\n",
    "resp = r.get(url) #requisitando as informações da api (url) utilizando o método get da biblioteca requests"
   ]
  },
  {
   "cell_type": "code",
   "execution_count": 3,
   "id": "705a4e27",
   "metadata": {
    "scrolled": true
   },
   "outputs": [
    {
     "data": {
      "text/plain": [
       "200"
      ]
     },
     "execution_count": 3,
     "metadata": {},
     "output_type": "execute_result"
    }
   ],
   "source": [
    "resp.status_code #verificando se está funcionando (200 = ok)"
   ]
  },
  {
   "cell_type": "code",
   "execution_count": 4,
   "id": "e098d6f5",
   "metadata": {},
   "outputs": [],
   "source": [
    "# Atribuindo uma variável (raw_data) para *salvar* os dados brutos requisitados com a variável resp e o método .json()\n",
    "raw_data = resp.json()"
   ]
  },
  {
   "cell_type": "code",
   "execution_count": 5,
   "id": "8512075c",
   "metadata": {},
   "outputs": [
    {
     "data": {
      "text/html": [
       "<div>\n",
       "<style scoped>\n",
       "    .dataframe tbody tr th:only-of-type {\n",
       "        vertical-align: middle;\n",
       "    }\n",
       "\n",
       "    .dataframe tbody tr th {\n",
       "        vertical-align: top;\n",
       "    }\n",
       "\n",
       "    .dataframe thead th {\n",
       "        text-align: right;\n",
       "    }\n",
       "</style>\n",
       "<table border=\"1\" class=\"dataframe\">\n",
       "  <thead>\n",
       "    <tr style=\"text-align: right;\">\n",
       "      <th></th>\n",
       "      <th>ID</th>\n",
       "      <th>Country</th>\n",
       "      <th>CountryCode</th>\n",
       "      <th>Province</th>\n",
       "      <th>City</th>\n",
       "      <th>CityCode</th>\n",
       "      <th>Lat</th>\n",
       "      <th>Lon</th>\n",
       "      <th>Confirmed</th>\n",
       "      <th>Deaths</th>\n",
       "      <th>Recovered</th>\n",
       "      <th>Active</th>\n",
       "      <th>Date</th>\n",
       "    </tr>\n",
       "  </thead>\n",
       "  <tbody>\n",
       "    <tr>\n",
       "      <th>0</th>\n",
       "      <td>63aa488e-b4a2-4fcd-ae15-07c1ff219903</td>\n",
       "      <td>Brazil</td>\n",
       "      <td>BR</td>\n",
       "      <td></td>\n",
       "      <td></td>\n",
       "      <td></td>\n",
       "      <td>-14.24</td>\n",
       "      <td>-51.93</td>\n",
       "      <td>1</td>\n",
       "      <td>0</td>\n",
       "      <td>0</td>\n",
       "      <td>1</td>\n",
       "      <td>2020-02-26T00:00:00Z</td>\n",
       "    </tr>\n",
       "    <tr>\n",
       "      <th>1</th>\n",
       "      <td>3489e1fd-c6b7-4cd1-b385-55c1eac25928</td>\n",
       "      <td>Brazil</td>\n",
       "      <td>BR</td>\n",
       "      <td></td>\n",
       "      <td></td>\n",
       "      <td></td>\n",
       "      <td>-14.24</td>\n",
       "      <td>-51.93</td>\n",
       "      <td>1</td>\n",
       "      <td>0</td>\n",
       "      <td>0</td>\n",
       "      <td>1</td>\n",
       "      <td>2020-02-27T00:00:00Z</td>\n",
       "    </tr>\n",
       "    <tr>\n",
       "      <th>2</th>\n",
       "      <td>f75ec5b9-1d0e-4bc0-9c9f-1046234d2a71</td>\n",
       "      <td>Brazil</td>\n",
       "      <td>BR</td>\n",
       "      <td></td>\n",
       "      <td></td>\n",
       "      <td></td>\n",
       "      <td>-14.24</td>\n",
       "      <td>-51.93</td>\n",
       "      <td>1</td>\n",
       "      <td>0</td>\n",
       "      <td>0</td>\n",
       "      <td>1</td>\n",
       "      <td>2020-02-28T00:00:00Z</td>\n",
       "    </tr>\n",
       "    <tr>\n",
       "      <th>3</th>\n",
       "      <td>caf0fef2-67a2-44d0-8ca7-e4fba1113fbd</td>\n",
       "      <td>Brazil</td>\n",
       "      <td>BR</td>\n",
       "      <td></td>\n",
       "      <td></td>\n",
       "      <td></td>\n",
       "      <td>-14.24</td>\n",
       "      <td>-51.93</td>\n",
       "      <td>2</td>\n",
       "      <td>0</td>\n",
       "      <td>0</td>\n",
       "      <td>2</td>\n",
       "      <td>2020-02-29T00:00:00Z</td>\n",
       "    </tr>\n",
       "    <tr>\n",
       "      <th>4</th>\n",
       "      <td>6ecf37e8-7113-428a-a568-8aaee6f9e722</td>\n",
       "      <td>Brazil</td>\n",
       "      <td>BR</td>\n",
       "      <td></td>\n",
       "      <td></td>\n",
       "      <td></td>\n",
       "      <td>-14.24</td>\n",
       "      <td>-51.93</td>\n",
       "      <td>2</td>\n",
       "      <td>0</td>\n",
       "      <td>0</td>\n",
       "      <td>2</td>\n",
       "      <td>2020-03-01T00:00:00Z</td>\n",
       "    </tr>\n",
       "  </tbody>\n",
       "</table>\n",
       "</div>"
      ],
      "text/plain": [
       "                                     ID Country CountryCode Province City  \\\n",
       "0  63aa488e-b4a2-4fcd-ae15-07c1ff219903  Brazil          BR                 \n",
       "1  3489e1fd-c6b7-4cd1-b385-55c1eac25928  Brazil          BR                 \n",
       "2  f75ec5b9-1d0e-4bc0-9c9f-1046234d2a71  Brazil          BR                 \n",
       "3  caf0fef2-67a2-44d0-8ca7-e4fba1113fbd  Brazil          BR                 \n",
       "4  6ecf37e8-7113-428a-a568-8aaee6f9e722  Brazil          BR                 \n",
       "\n",
       "  CityCode     Lat     Lon  Confirmed  Deaths  Recovered  Active  \\\n",
       "0           -14.24  -51.93          1       0          0       1   \n",
       "1           -14.24  -51.93          1       0          0       1   \n",
       "2           -14.24  -51.93          1       0          0       1   \n",
       "3           -14.24  -51.93          2       0          0       2   \n",
       "4           -14.24  -51.93          2       0          0       2   \n",
       "\n",
       "                   Date  \n",
       "0  2020-02-26T00:00:00Z  \n",
       "1  2020-02-27T00:00:00Z  \n",
       "2  2020-02-28T00:00:00Z  \n",
       "3  2020-02-29T00:00:00Z  \n",
       "4  2020-03-01T00:00:00Z  "
      ]
     },
     "execution_count": 5,
     "metadata": {},
     "output_type": "execute_result"
    }
   ],
   "source": [
    "#Transformando o json em DataFrame e verificando como ele se comporta\n",
    "df = pd.DataFrame(raw_data)\n",
    "df.head()"
   ]
  },
  {
   "cell_type": "code",
   "execution_count": 6,
   "id": "2975f74b",
   "metadata": {},
   "outputs": [
    {
     "data": {
      "text/html": [
       "<div>\n",
       "<style scoped>\n",
       "    .dataframe tbody tr th:only-of-type {\n",
       "        vertical-align: middle;\n",
       "    }\n",
       "\n",
       "    .dataframe tbody tr th {\n",
       "        vertical-align: top;\n",
       "    }\n",
       "\n",
       "    .dataframe thead th {\n",
       "        text-align: right;\n",
       "    }\n",
       "</style>\n",
       "<table border=\"1\" class=\"dataframe\">\n",
       "  <thead>\n",
       "    <tr style=\"text-align: right;\">\n",
       "      <th></th>\n",
       "      <th>Confirmed</th>\n",
       "      <th>Deaths</th>\n",
       "      <th>Recovered</th>\n",
       "      <th>Date</th>\n",
       "    </tr>\n",
       "  </thead>\n",
       "  <tbody>\n",
       "    <tr>\n",
       "      <th>0</th>\n",
       "      <td>1</td>\n",
       "      <td>0</td>\n",
       "      <td>0</td>\n",
       "      <td>2020-02-26T00:00:00Z</td>\n",
       "    </tr>\n",
       "    <tr>\n",
       "      <th>1</th>\n",
       "      <td>1</td>\n",
       "      <td>0</td>\n",
       "      <td>0</td>\n",
       "      <td>2020-02-27T00:00:00Z</td>\n",
       "    </tr>\n",
       "    <tr>\n",
       "      <th>2</th>\n",
       "      <td>1</td>\n",
       "      <td>0</td>\n",
       "      <td>0</td>\n",
       "      <td>2020-02-28T00:00:00Z</td>\n",
       "    </tr>\n",
       "    <tr>\n",
       "      <th>3</th>\n",
       "      <td>2</td>\n",
       "      <td>0</td>\n",
       "      <td>0</td>\n",
       "      <td>2020-02-29T00:00:00Z</td>\n",
       "    </tr>\n",
       "    <tr>\n",
       "      <th>4</th>\n",
       "      <td>2</td>\n",
       "      <td>0</td>\n",
       "      <td>0</td>\n",
       "      <td>2020-03-01T00:00:00Z</td>\n",
       "    </tr>\n",
       "  </tbody>\n",
       "</table>\n",
       "</div>"
      ],
      "text/plain": [
       "   Confirmed  Deaths  Recovered                  Date\n",
       "0          1       0          0  2020-02-26T00:00:00Z\n",
       "1          1       0          0  2020-02-27T00:00:00Z\n",
       "2          1       0          0  2020-02-28T00:00:00Z\n",
       "3          2       0          0  2020-02-29T00:00:00Z\n",
       "4          2       0          0  2020-03-01T00:00:00Z"
      ]
     },
     "execution_count": 6,
     "metadata": {},
     "output_type": "execute_result"
    }
   ],
   "source": [
    "#Mantendo somente as colunas importantes para a análise\n",
    "df = df[['Confirmed', 'Deaths', 'Recovered', 'Date']]\n",
    "df.head()"
   ]
  },
  {
   "cell_type": "code",
   "execution_count": 7,
   "id": "71f1724a",
   "metadata": {},
   "outputs": [],
   "source": [
    "#Renomeando as columas em português e tirando os caracteres não importantes da data\n",
    "df=df.rename(columns = {'Confirmed': 'Confirmados', 'Deaths': 'Óbitos', 'Recovered': 'Recuperados', 'Date': 'Data'})\n",
    "for i in range(0, len(df)):\n",
    "    df.iloc[i,3] = df.iloc[i,3][:10] "
   ]
  },
  {
   "cell_type": "code",
   "execution_count": 8,
   "id": "3e96dbac",
   "metadata": {},
   "outputs": [],
   "source": [
    "import datetime as dt #importando a biblioteca nativa datetime\n",
    "for i in range(0, len(df)): #iterando todos os elementos \n",
    "    df.iloc[i,3] = dt.datetime.strptime(df.iloc[i,3], '%Y-%m-%d') #transforma para um formato de data\n",
    "    df.iloc[i,3] = df.iloc[i,3].strftime('%d/%m/%Y') #transforma para o formato de datas usual no BR."
   ]
  },
  {
   "cell_type": "markdown",
   "id": "e22ff11b",
   "metadata": {},
   "source": [
    "# PARTE 2 "
   ]
  },
  {
   "cell_type": "markdown",
   "id": "4265edd2",
   "metadata": {},
   "source": [
    "<h2> Usando matplotlib para plotar </h2>"
   ]
  },
  {
   "cell_type": "code",
   "execution_count": 9,
   "id": "c2d3fab1",
   "metadata": {},
   "outputs": [],
   "source": [
    "import matplotlib.pyplot as plt\n",
    "import numpy as np\n",
    "\n",
    "plt.rcParams.update({'font.size':14})"
   ]
  },
  {
   "cell_type": "code",
   "execution_count": 10,
   "id": "320eafbc",
   "metadata": {},
   "outputs": [],
   "source": [
    "#Selecionando os dados a serem plotados\n",
    "\n",
    "datas = []\n",
    "confirmados = []\n",
    "recuperados = []\n",
    "teste = [0, 2, 3, 4, 5, 6, 7, 8]\n",
    "\n",
    "for i in range(0,len(df),45):\n",
    "    datas.append(df.iloc[i,3])  \n",
    "    confirmados.append(df.iloc[i,0]//1000) #dividi por 1000 para colocar em milhares\n",
    "    recuperados.append(df.iloc[i,2]//1000)\n",
    "    "
   ]
  },
  {
   "cell_type": "code",
   "execution_count": 11,
   "id": "9cad7dfa",
   "metadata": {
    "scrolled": false
   },
   "outputs": [
    {
     "data": {
      "image/png": "[encoded data removed]",
      "text/plain": [
       "<Figure size 1800x720 with 1 Axes>"
      ]
     },
     "metadata": {
      "needs_background": "light"
     },
     "output_type": "display_data"
    }
   ],
   "source": [
    "x = np.arange(len(datas))  # local label\n",
    "width = 0.4  # the width of the bars\n",
    "\n",
    "fig, ax = plt.subplots(figsize = (25,10))\n",
    "\n",
    "#setando as barras\n",
    "\n",
    "rects1 = ax.bar(x - width/2, confirmados, width, label='Confirmados', color = 'gray')\n",
    "rects2 = ax.bar(x + width/2, recuperados, width, label='Recuperados', color = 'green')\n",
    "\n",
    "ax.set_ylabel('Número acumulado (milhares de pessoas)')\n",
    "ax.set_title('Confirmados e Recuparados de covid19 no Brasil')\n",
    "\n",
    "ax.legend()\n",
    "\n",
    "ax.set_ylim([0, 20000]) #intervalo do eixo y\n",
    "\n",
    "ax.set_xticks(x)\n",
    "ax.set_xticklabels(datas)\n",
    "\n",
    "plt.savefig('grafico_brcovid.png', dpi = 600) #salvando a imagem\n",
    "plt.show()    "
   ]
  }
 ],
 "metadata": {
  "kernelspec": {
   "display_name": "Python 3",
   "language": "python",
   "name": "python3"
  },
  "language_info": {
   "codemirror_mode": {
    "name": "ipython",
    "version": 3
   },
   "file_extension": ".py",
   "mimetype": "text/x-python",
   "name": "python",
   "nbconvert_exporter": "python",
   "pygments_lexer": "ipython3",
   "version": "3.8.8"
  }
 },
 "nbformat": 4,
 "nbformat_minor": 5
}
